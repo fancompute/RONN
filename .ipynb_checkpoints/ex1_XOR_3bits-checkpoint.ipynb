{
 "cells": [
  {
   "cell_type": "markdown",
   "id": "8a4fb02f",
   "metadata": {},
   "source": [
    "### First double multiplexer, then single phase tuner\n",
    "Including even ports template and odd ports template, use odd port nets for test"
   ]
  },
  {
   "cell_type": "code",
   "execution_count": 1,
   "id": "28ace8b7",
   "metadata": {},
   "outputs": [
    {
     "name": "stderr",
     "output_type": "stream",
     "text": [
      "WARNING:absl:No GPU/TPU found, falling back to CPU. (Set TF_CPP_MIN_LOG_LEVEL=0 and rerun for more info.)\n"
     ]
    }
   ],
   "source": [
    "import jax.numpy as jnp\n",
    "from jax import grad, jit, vmap, value_and_grad\n",
    "from jax import random\n",
    "from jax import custom_vjp\n",
    "\n",
    "from functools import partial\n",
    "import numpy as np\n",
    "\n",
    "key = random.PRNGKey(0)\n",
    "CTYPE = jnp.complex64\n",
    "RTYPE = jnp.float32"
   ]
  },
  {
   "cell_type": "markdown",
   "id": "8e65fad7",
   "metadata": {},
   "source": [
    "### Helper functions"
   ]
  },
  {
   "cell_type": "code",
   "execution_count": 2,
   "id": "c7ffbce8",
   "metadata": {},
   "outputs": [],
   "source": [
    "# this block won't be changed.\n",
    "# this functions is a helper function to get the location; won't be modified\n",
    "def get_ABCD_index(num_ports, parity):\n",
    "    if parity==\"even\":\n",
    "        ind = jnp.arange(0, num_ports-1, 2)\n",
    "    elif parity==\"odd\":\n",
    "        ind = jnp.arange(1, num_ports-1, 2)\n",
    "    else:\n",
    "        raise ValueError(\"parity should be `even` or `odd`, but get:\", parity)\n",
    "    ind_A = (ind, ind)\n",
    "    ind_D = (ind+1, ind+1)\n",
    "    ind_B = (ind, ind+1)\n",
    "    ind_C = (ind+1, ind)\n",
    "    return ind_A, ind_B, ind_C, ind_D\n",
    "\n",
    "# these two functions can be isolated; won't be modified\n",
    "def double_transfer(theta, r1, r2, a, dx):\n",
    "    theta = -(theta + dx)\n",
    "    denom = 1+a**2*jnp.exp(2*1j*theta)*r1**2-2*a*jnp.exp(1j*theta)*r1*r2\n",
    "    numA = r1+a**2*jnp.exp(2*1j*theta)*r1-a*jnp.exp(1j*theta)*r2-a*jnp.exp(1j*theta)*r1**2*r2\n",
    "    numB = -1j*a*jnp.exp(1j*theta)*(-1+r1**2)*jnp.sqrt(1-r2**2)\n",
    "    numC = -1j*a*jnp.exp(1j*theta)*(-1+r1**2)*jnp.sqrt(1-r2**2)\n",
    "    numD = r1+a**2*jnp.exp(2*1j*theta)*r1-a*jnp.exp(1j*theta)*r2-a*jnp.exp(1j*theta)*r1**2*r2\n",
    "    return numA/denom, numB/denom, numC/denom, numD/denom\n",
    "\n",
    "def single_transfer(phi, r, a):\n",
    "    return jnp.exp(1j*jnp.pi+1j*phi)*(a-r*jnp.exp(-1j*phi))/(1.-r*a*jnp.exp(1j*phi))\n",
    "\n",
    "# activation can be separated as well\n",
    "def ring_activation(g, phi_b, alpha, a_act, r_act, xout):\n",
    "    # ring\n",
    "    dphi = 0.5*g*jnp.abs(xout)**2 + 0.5*phi_b\n",
    "    t_ring = jnp.exp(1j*(np.pi+dphi))*(a_act-r_act*jnp.exp(1j*dphi))/(1.0-r_act*a_act*jnp.exp(1j*dphi))\n",
    "    xout = (1j * jnp.sqrt(1.0-alpha) * t_ring) * xout\n",
    "    return xout\n",
    "\n",
    "@partial(jit, static_argnums=(0,))\n",
    "def get_transfer_even(num_ports, dA, dB, dC, dD):\n",
    "    \"\"\"\n",
    "    Get the even depths transfer matrix.\n",
    "    \"\"\"\n",
    "    ind_ABCD = get_ABCD_index(num_ports, \"even\")\n",
    "    T = jnp.eye(num_ports, dtype=CTYPE)\n",
    "    T = T.at[ind_ABCD[0]].set(dA)\n",
    "    T = T.at[ind_ABCD[1]].set(dB)\n",
    "    T = T.at[ind_ABCD[2]].set(dC)\n",
    "    T = T.at[ind_ABCD[3]].set(dD)\n",
    "    return T\n",
    "\n",
    "@partial(jit, static_argnums=(0,))\n",
    "def get_transfer_odd(num_ports, dA, dB, dC, dD):\n",
    "    \"\"\"\n",
    "    Get the odd depths transfer matrix.\n",
    "    \"\"\"\n",
    "    ind_ABCD = get_ABCD_index(num_ports, \"odd\")\n",
    "    T = jnp.eye(num_ports, dtype=CTYPE)\n",
    "    T = T.at[ind_ABCD[0]].set(dA)\n",
    "    T = T.at[ind_ABCD[1]].set(dB)\n",
    "    T = T.at[ind_ABCD[2]].set(dC)\n",
    "    T = T.at[ind_ABCD[3]].set(dD)\n",
    "    return T\n",
    "\n",
    "double_transfer_even_jit = jit(double_transfer)\n",
    "single_transfer_even_jit = jit(single_transfer)\n",
    "double_transfer_odd_jit = jit(double_transfer)\n",
    "single_transfer_odd_jit = jit(single_transfer)\n",
    "ring_activation_jit = jit(ring_activation)"
   ]
  },
  {
   "cell_type": "markdown",
   "id": "befb4cd7",
   "metadata": {},
   "source": [
    "### Define network parameters"
   ]
  },
  {
   "cell_type": "code",
   "execution_count": 3,
   "id": "f435adf2",
   "metadata": {},
   "outputs": [],
   "source": [
    "# double ring parameters\n",
    "r1 = 0.99580889\n",
    "r2 = 0.99999208\n",
    "dx = 0.00133703\n",
    "a = 1\n",
    "\n",
    "# single ring parameters\n",
    "rsingle = r1\n",
    "asingle = a\n",
    "\n",
    "# activation function parameters\n",
    "g = np.pi\n",
    "phi_b = 0\n",
    "alpha = 0.1\n",
    "a_act = 0.9\n",
    "r_act = 0.9\n",
    "\n",
    "# initiate around the phase value\n",
    "around = 1e-2"
   ]
  },
  {
   "cell_type": "code",
   "execution_count": 4,
   "id": "fbacdc99",
   "metadata": {},
   "outputs": [],
   "source": [
    "# depth = ports\n",
    "num_ports = 3\n",
    "num_depth = num_ports\n",
    "num_layers = 2\n",
    "\n",
    "# for even and odd depths (assume the first depth is even.)\n",
    "num_depth_even = int(jnp.ceil(num_depth/2))\n",
    "num_depth_odd = int(jnp.floor(num_depth/2))\n",
    "num_ports_even = int(jnp.floor(num_ports/2))\n",
    "num_ports_odd = int(jnp.ceil(num_ports/2) - 1)\n",
    "num_total_even = num_layers*num_depth_even*num_ports_even \n",
    "num_total_odd = num_layers*num_depth_odd*num_ports_odd\n",
    "\n",
    "# get the optimization parameters\n",
    "# once the structure is setup, the shape of transfer matrix is setup.\n",
    "key, subkey1, subkey2, subkey3, subkey4 = random.split(key, 5)\n",
    "\n",
    "# our parameters\n",
    "theta_even = random.uniform(subkey1, \n",
    "                            shape=(num_layers, num_depth_even, \n",
    "                                   num_ports_even),\n",
    "                           )*around\n",
    "theta_odd = random.uniform(subkey2, \n",
    "                           shape=(num_layers, num_depth_odd, \n",
    "                                  num_ports_odd),\n",
    "                          )*around\n",
    "\n",
    "phi_even = random.uniform(subkey3, \n",
    "                          shape=(num_layers, num_depth_even, \n",
    "                                 num_ports_even),\n",
    "                         )*around\n",
    "phi_odd = random.uniform(subkey4, \n",
    "                         shape=(num_layers, num_depth_odd, \n",
    "                                num_ports_odd),\n",
    "                        )*around\n",
    "\n",
    "params = {}\n",
    "params['theta_even'] = theta_even\n",
    "params['theta_odd'] = theta_odd\n",
    "params['phi_even'] = phi_even\n",
    "params['phi_odd'] = phi_odd\n",
    "init_params = params"
   ]
  },
  {
   "cell_type": "code",
   "execution_count": 5,
   "id": "2e0af520",
   "metadata": {},
   "outputs": [],
   "source": [
    "jit_matmul = jit(jnp.matmul)\n",
    "\n",
    "# let's focus on the double ring only first\n",
    "@jit\n",
    "def clements_evenports(r1, r2, a, dx, rsingle, asingle, \n",
    "                       theta_even, theta_odd, phi_even, phi_odd, xin):\n",
    "    \"\"\"\n",
    "    1-layer clements setup.\n",
    "    theta_even: (num_depth, num_even_devices)\n",
    "    theta_odd: (num_depth, num_odd_devices)\n",
    "    phi_even: (num_depth, num_even_devices)\n",
    "    phi_odd: (num_depth, num_even_devices)\n",
    "    xin: (x_vec_shape, batch_size)\n",
    "    \"\"\"\n",
    "    dAeven, dBeven, dCeven, dDeven = double_transfer_even_jit(theta_even, r1, r2, a, dx)\n",
    "    dAodd, dBodd, dCodd, dDodd = double_transfer_odd_jit(theta_odd, r1, r2, a, dx)\n",
    "    phase_even = single_transfer_even_jit(phi_even, rsingle, asingle)\n",
    "    phase_odd = single_transfer_odd_jit(phi_odd, rsingle, asingle)\n",
    "    # if the ports number is even\n",
    "    for d in range(int(num_depth/2)):\n",
    "        T_even = get_transfer_even(num_ports, \n",
    "                                   dAeven[d]*phase_even[d], dBeven[d]*phase_even[d], \n",
    "                                   dCeven[d], dDeven[d])\n",
    "        T_odd = get_transfer_odd(num_ports, \n",
    "                                 dAodd[d]*phase_odd[d], dBodd[d]*phase_odd[d], \n",
    "                                 dCodd[d], dDodd[d])\n",
    "        xin = jit_matmul(T_odd, jit_matmul(T_even, xin))\n",
    "    return xin\n",
    "\n",
    "@jit\n",
    "def clements_oddports(r1, r2, a, dx, rsingle, asingle, \n",
    "                      theta_even, theta_odd, phi_even, phi_odd, xin):\n",
    "    \"\"\"\n",
    "    1-layer clements setup.\n",
    "    theta_even: (num_depth, num_even_devices)\n",
    "    theta_odd: (num_depth, num_odd_devices)\n",
    "    phi_even: (num_depth, num_even_devices)\n",
    "    phi_odd: (num_depth, num_even_devices)\n",
    "    xin: (x_vec_shape, batch_size)\n",
    "    \"\"\"\n",
    "    dAeven, dBeven, dCeven, dDeven = double_transfer_even_jit(theta_even, r1, r2, a, dx)\n",
    "    dAodd, dBodd, dCodd, dDodd = double_transfer_odd_jit(theta_odd, r1, r2, a, dx)\n",
    "    phase_even = single_transfer_even_jit(phi_even, rsingle, asingle)\n",
    "    phase_odd = single_transfer_odd_jit(phi_odd, rsingle, asingle)\n",
    "    \n",
    "    # if the ports number is odd\n",
    "    for d in range(int(num_depth/2)):\n",
    "        T_even = get_transfer_even(num_ports, \n",
    "                                   dAeven[d]*phase_even[d], dBeven[d]*phase_even[d], \n",
    "                                   dCeven[d], dDeven[d])\n",
    "        T_odd = get_transfer_odd(num_ports, \n",
    "                                 dAodd[d]*phase_odd[d], dBodd[d]*phase_odd[d], \n",
    "                                 dCodd[d], dDodd[d])\n",
    "        xin = jit_matmul(T_odd, jit_matmul(T_even, xin))\n",
    "    T_even = get_transfer_even(num_ports, \n",
    "                               dAeven[d+1]*phase_even[d+1], dBeven[d+1]*phase_even[d+1], \n",
    "                               dCeven[d+1], dDeven[d+1])\n",
    "    xin = jit_matmul(T_even, xin)\n",
    "    return xin"
   ]
  },
  {
   "cell_type": "code",
   "execution_count": 6,
   "id": "38c8b997",
   "metadata": {},
   "outputs": [],
   "source": [
    "@jit\n",
    "def network_even(theta_even, theta_odd, phi_even, phi_odd, xin):\n",
    "    xin = clements_evenports(r1, r2, a, dx, rsingle, asingle, \n",
    "                              theta_even[0], theta_odd[0], \n",
    "                              phi_even[0], phi_odd[0], xin)\n",
    "    xin = ring_activation(g, phi_b, alpha, a_act, r_act, xin)\n",
    "    for l in range(1, num_layers):\n",
    "        xin = clements_evenports(r1, r2, a, dx, rsingle, asingle, \n",
    "                                  theta_even[l], theta_odd[l], \n",
    "                                  phi_even[l], phi_odd[l], xin)\n",
    "        xin = ring_activation(g, phi_b, alpha, a_act, r_act, xin)\n",
    "    \n",
    "    xin = jnp.abs(xin)**2\n",
    "    return xin\n",
    "\n",
    "@jit\n",
    "def network_odd(theta_even, theta_odd, phi_even, phi_odd, xin):\n",
    "    xin = clements_oddports(r1, r2, a, dx, rsingle, asingle, \n",
    "                             theta_even[0], theta_odd[0], \n",
    "                             phi_even[0], phi_odd[0], xin)\n",
    "    xin = ring_activation(g, phi_b, alpha, a_act, r_act, xin)\n",
    "    for l in range(1, num_layers):\n",
    "        xin = clements_oddports(r1, r2, a, dx, rsingle, asingle, \n",
    "                                 theta_even[l], theta_odd[l], \n",
    "                                 phi_even[l], phi_odd[l], xin)\n",
    "        xin = ring_activation(g, phi_b, alpha, a_act, r_act, xin)\n",
    "    \n",
    "    xin = jnp.abs(xin)**2\n",
    "    return xin"
   ]
  },
  {
   "cell_type": "code",
   "execution_count": 7,
   "id": "b808fc5d",
   "metadata": {},
   "outputs": [],
   "source": [
    "@jit\n",
    "def loss(params, xin, Y):\n",
    "    xout = network_odd(params['theta_even'], params['theta_odd'], \n",
    "                       params['phi_even'], params['phi_odd'], xin)\n",
    "    l = jnp.abs(xout[0,:]-Y[0,:])**2\n",
    "    return jnp.sum(l)"
   ]
  },
  {
   "cell_type": "markdown",
   "id": "60a4ee9a",
   "metadata": {},
   "source": [
    "### XOR dataset generation"
   ]
  },
  {
   "cell_type": "code",
   "execution_count": 8,
   "id": "b51b8c20",
   "metadata": {},
   "outputs": [],
   "source": [
    "def generate_data_cascade_XOR(N, y_scale=1.0, normalize=False):\n",
    "    if N > 8:\n",
    "        print(\"we limit the total xor bits smaller than 8, but got N = :\", N)\n",
    "        raise\n",
    "    Y = np.zeros((1, 2**N))\n",
    "    number_array = np.arange(2**N, dtype=np.uint8)[:,None]\n",
    "    bit_array    = np.unpackbits(number_array, axis=1)\n",
    "    inds = np.array(np.count_nonzero(bit_array, axis=1) % 2,\n",
    "                    dtype=bool)\n",
    "    X = bit_array.astype(np.complex)[:, (8-N):].T\n",
    "    Y[0,inds] = y_scale\n",
    "    X = X + 1e-9\n",
    "    if normalize:\n",
    "        X = X/np.linalg.norm(X, axis=0)\n",
    "        X[:,0] = 1e-9\n",
    "    return jnp.array(X), jnp.array(Y)"
   ]
  },
  {
   "cell_type": "code",
   "execution_count": 9,
   "id": "99774861",
   "metadata": {},
   "outputs": [],
   "source": [
    "num_bits = 3\n",
    "y_max = 0.2\n",
    "X, Y = generate_data_cascade_XOR(num_bits, y_scale=y_max, normalize=True)\n",
    "X_padded = jnp.pad(X, ((0,num_ports-num_bits),(0,0)), mode='constant', constant_values=1)\n",
    "# X_padded shape: (num_ports, num_samples)\n",
    "# l_test = loss(params, X_padded, Y)"
   ]
  },
  {
   "cell_type": "markdown",
   "id": "f1a3dd55",
   "metadata": {},
   "source": [
    "### Optimizer + train"
   ]
  },
  {
   "cell_type": "code",
   "execution_count": 10,
   "id": "bec76c8f",
   "metadata": {},
   "outputs": [],
   "source": [
    "from jax.experimental import optimizers\n",
    "import time"
   ]
  },
  {
   "cell_type": "code",
   "execution_count": 11,
   "id": "56a84744",
   "metadata": {},
   "outputs": [],
   "source": [
    "def run_xor(x, y, params, num_epochs, lr=1e-3):\n",
    "    jit_value_grad  = jit(value_and_grad(loss, (0, )))\n",
    "    \n",
    "    @jit\n",
    "    def update(params, x, y, opt_state):\n",
    "        value, grads = jit_value_grad(params, x, y)\n",
    "        opt_state = opt_update(0, grads[0], opt_state)\n",
    "        return get_params(opt_state), opt_state, value\n",
    "\n",
    "    # Defining an optimizer in Jax\n",
    "    opt_init, opt_update, get_params = optimizers.adam(lr)\n",
    "    opt_state = opt_init(params)\n",
    "    \n",
    "    loss_list = []\n",
    "    params, opt_state, l = update(params, x, y, opt_state)\n",
    "    loss_list.append(l)\n",
    "    \n",
    "    for epoch in range(num_epochs):\n",
    "        params, opt_state, l = update(params, x, y, opt_state)\n",
    "        loss_list.append(l)\n",
    "    return loss_list, params"
   ]
  },
  {
   "cell_type": "code",
   "execution_count": 12,
   "id": "0d28a2f9",
   "metadata": {
    "scrolled": false
   },
   "outputs": [
    {
     "name": "stdout",
     "output_type": "stream",
     "text": [
      "training time:  4.255724191665649\n"
     ]
    }
   ],
   "source": [
    "num_epochs = 2000\n",
    "lr = 1e-4\n",
    "start_time = time.time()\n",
    "loss_list, trained_params = run_xor(X_padded, Y, params, num_epochs, lr)\n",
    "print(\"training time: \", time.time()-start_time)"
   ]
  },
  {
   "cell_type": "markdown",
   "id": "4ed4fe09",
   "metadata": {},
   "source": [
    "### Analyze results"
   ]
  },
  {
   "cell_type": "code",
   "execution_count": 13,
   "id": "0007dff2",
   "metadata": {},
   "outputs": [],
   "source": [
    "import matplotlib.pyplot as plt"
   ]
  },
  {
   "cell_type": "code",
   "execution_count": 14,
   "id": "b7d9d332",
   "metadata": {},
   "outputs": [
    {
     "data": {
      "text/plain": [
       "<matplotlib.legend.Legend at 0x7f820dfa32b0>"
      ]
     },
     "execution_count": 14,
     "metadata": {},
     "output_type": "execute_result"
    },
    {
     "data": {
      "image/png": "[encoded data removed]",
      "text/plain": [
       "<Figure size 360x216 with 1 Axes>"
      ]
     },
     "metadata": {
      "needs_background": "light"
     },
     "output_type": "display_data"
    },
    {
     "data": {
      "image/png": "[encoded data removed]",
      "text/plain": [
       "<Figure size 360x216 with 1 Axes>"
      ]
     },
     "metadata": {
      "needs_background": "light"
     },
     "output_type": "display_data"
    }
   ],
   "source": [
    "plt.figure(figsize=(5,3))\n",
    "\n",
    "plt.plot(loss_list)\n",
    "plt.yscale('log')\n",
    "plt.xlabel('epoch')\n",
    "\n",
    "test = network_odd(trained_params['theta_even'], trained_params['theta_odd'], \n",
    "                   trained_params['phi_even'], trained_params['phi_odd'], X_padded)\n",
    "\n",
    "plt.figure(figsize=(5,3))\n",
    "plt.plot(jnp.arange(X.shape[1])+1, jnp.abs(Y[0,:]), \"x\", mec=\"k\", mew=1.25, ms=7, label='target')\n",
    "plt.plot(jnp.arange(X.shape[1])+1, jnp.abs(test[0,:]), \"o\", c=\"#d62728\", mew=1, ms=4, label='predicted')\n",
    "xticks = ['000','001','010','011','100','101','110','111']\n",
    "plt.xticks(jnp.arange(int(2**num_bits))+1,xticks)\n",
    "plt.legend()\n",
    "\n",
    "# wl = 1.515e-6\n",
    "# r0 = 3.225e-6\n",
    "# k0 = anp.pi*2/wl\n",
    "# phi_n_factor = 2*anp.pi*r0*k0\n",
    "# n_list = phi_list/2/anp.pi/r0/k0\n",
    "# print('n value', n_list)"
   ]
  },
  {
   "cell_type": "code",
   "execution_count": null,
   "id": "4e3158ac",
   "metadata": {},
   "outputs": [],
   "source": []
  },
  {
   "cell_type": "code",
   "execution_count": null,
   "id": "6a26715b",
   "metadata": {},
   "outputs": [],
   "source": []
  }
 ],
 "metadata": {
  "kernelspec": {
   "display_name": "Python 3 (ipykernel)",
   "language": "python",
   "name": "python3"
  },
  "language_info": {
   "codemirror_mode": {
    "name": "ipython",
    "version": 3
   },
   "file_extension": ".py",
   "mimetype": "text/x-python",
   "name": "python",
   "nbconvert_exporter": "python",
   "pygments_lexer": "ipython3",
   "version": "3.8.2"
  }
 },
 "nbformat": 4,
 "nbformat_minor": 5
}
